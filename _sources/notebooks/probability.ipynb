{
 "cells": [
  {
   "cell_type": "markdown",
   "id": "2b481a30-89dc-4f3b-94f0-ba5c28bc7365",
   "metadata": {},
   "source": [
    "# Probability: General Overview"
   ]
  },
  {
   "cell_type": "markdown",
   "id": "d137dcce-d43c-41ba-9356-5ba6f304b7ee",
   "metadata": {},
   "source": [
    "This will just give a general overview of what we will treat in this chapter. It will be heavily based on 6190"
   ]
  }
 ],
 "metadata": {
  "kernelspec": {
   "display_name": "Python 3 (ipykernel)",
   "language": "python",
   "name": "python3"
  },
  "language_info": {
   "codemirror_mode": {
    "name": "ipython",
    "version": 3
   },
   "file_extension": ".py",
   "mimetype": "text/x-python",
   "name": "python",
   "nbconvert_exporter": "python",
   "pygments_lexer": "ipython3",
   "version": "3.10.18"
  }
 },
 "nbformat": 4,
 "nbformat_minor": 5
}
