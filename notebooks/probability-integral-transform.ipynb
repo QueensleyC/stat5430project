{
 "cells": [
  {
   "cell_type": "markdown",
   "id": "39f97463",
   "metadata": {},
   "source": [
    "# Probability Integral Transform (PIT)\n",
    "\n",
    "- This theorem has two key statements:\n",
    "  \n",
    "1. If a continuous random variable X has a well-defined CDF, $F_x$. Take samples from X and plug into the CDF, guess what? They will follow a uniform distributions. This is denoted mathematically as:\n",
    "\n",
    "$$\n",
    "U = F_X(X) \\sim \\text{Uniform}(0,1)\n",
    "$$\n",
    "\n",
    "2. if $U \\sim \\text{Uniform}(0,1)$ and $F_x$ is the CDF of a random variable $X$ then,\n",
    "\n",
    "   $$\n",
    "   X = F_x^{-1}(U)\n",
    "   $$"
   ]
  },
  {
   "cell_type": "markdown",
   "id": "8c1deace",
   "metadata": {},
   "source": [
    "## First Statement"
   ]
  },
  {
   "cell_type": "code",
   "execution_count": null,
   "id": "2431c530",
   "metadata": {
    "tags": [
     "hide-input"
    ]
   },
   "outputs": [],
   "source": [
    "import numpy as np\n",
    "import matplotlib.pyplot as plt\n",
    "import matplotlib.animation as animation\n",
    "from matplotlib.patches import FancyArrowPatch\n",
    "from matplotlib.animation import FuncAnimation"
   ]
  },
  {
   "cell_type": "markdown",
   "id": "809f1813",
   "metadata": {},
   "source": [
    "Below are the plots of the PDF and CDF of the exponential distribution"
   ]
  },
  {
   "cell_type": "code",
   "execution_count": null,
   "id": "3986e69d",
   "metadata": {
    "tags": [
     "hide-input"
    ]
   },
   "outputs": [],
   "source": [
    "# Parameters\n",
    "lam = 1.0   # rate λ\n",
    "x = np.linspace(0, 5, 200)\n",
    "\n",
    "# Exponential PDF and CDF\n",
    "f_x = lam * np.exp(-lam * x)      # PDF\n",
    "F_x = 1 - np.exp(-lam * x)        # CDF\n",
    "\n",
    "# Create side-by-side plots\n",
    "fig, (ax1, ax2) = plt.subplots(1, 2, figsize=(12,4))\n",
    "\n",
    "# PDF\n",
    "ax1.plot(x, f_x, color=\"red\", lw=2, label=r\"$f_X(x) = \\lambda e^{-\\lambda x}$\")\n",
    "ax1.set_title(\"PDF of Exponential($\\lambda=1$)\")\n",
    "ax1.set_xlabel(\"x\")\n",
    "ax1.set_ylabel(\"Density\")\n",
    "ax1.grid(True, linestyle=\"--\", alpha=0.6)\n",
    "ax1.legend()\n",
    "\n",
    "# CDF\n",
    "ax2.plot(x, F_x, color=\"blue\", lw=2, label=r\"$F_X(x) = 1 - e^{-\\lambda x}$\")\n",
    "ax2.set_title(\"CDF of Exponential($\\lambda=1$)\")\n",
    "ax2.set_xlabel(\"x\")\n",
    "ax2.set_ylabel(\"Cumulative Probability\")\n",
    "ax2.grid(True, linestyle=\"--\", alpha=0.6)\n",
    "ax2.legend()\n",
    "\n",
    "plt.tight_layout()\n",
    "plt.show()"
   ]
  },
  {
   "cell_type": "markdown",
   "id": "43cdf7fe",
   "metadata": {},
   "source": [
    "By the PIT, if we take samples, in this case, 10 samples, from the probability density function of the exponential distribution:"
   ]
  },
  {
   "cell_type": "code",
   "execution_count": null,
   "id": "b24b3869",
   "metadata": {
    "tags": [
     "hide-input"
    ]
   },
   "outputs": [],
   "source": [
    "X_samples_exp = np.random.exponential(size = 10)\n",
    "print(X_samples_exp)"
   ]
  },
  {
   "cell_type": "markdown",
   "id": "ab6b9f45",
   "metadata": {},
   "source": [
    "and plug them into the CDF (of the same distribution: $F_x(X) = 1-\\exp^{-\\lambda x}$)"
   ]
  },
  {
   "cell_type": "code",
   "execution_count": null,
   "id": "b7b0761f",
   "metadata": {
    "tags": [
     "hide-input"
    ]
   },
   "outputs": [],
   "source": [
    "F_x = 1 - np.exp(-lam * X_samples_exp)  \n",
    "F_x"
   ]
  },
  {
   "cell_type": "markdown",
   "id": "d4237349",
   "metadata": {},
   "source": [
    "We see that the distribution of these 10 samples looks uniformly distribution"
   ]
  },
  {
   "cell_type": "code",
   "execution_count": null,
   "id": "51b83c89",
   "metadata": {
    "tags": [
     "hide-input"
    ]
   },
   "outputs": [],
   "source": [
    "plt.vlines(F_x,0,1);"
   ]
  },
  {
   "cell_type": "markdown",
   "id": "55dd63e8",
   "metadata": {},
   "source": [
    "Increasing the sample size, we have;"
   ]
  },
  {
   "cell_type": "code",
   "execution_count": null,
   "id": "f2b6c165",
   "metadata": {
    "tags": [
     "hide-input"
    ]
   },
   "outputs": [],
   "source": [
    "# Parameters\n",
    "lam = 1.0\n",
    "sample_sizes = [100, 1000, 10000]\n",
    "\n",
    "fig, axes = plt.subplots(1, 3, figsize=(15, 3))\n",
    "\n",
    "for ax, n in zip(axes, sample_sizes):\n",
    "    # Sample from Exp(lam)\n",
    "    X_samples_exp = np.random.exponential(scale=1/lam, size=n)\n",
    "    \n",
    "    # PIT: U = F_X(X) = 1 - e^{-lam * X}\n",
    "    F_x = 1 - np.exp(-lam * X_samples_exp)\n",
    "    \n",
    "    # Plot vertical lines\n",
    "    ax.vlines(F_x, 0, 1, color=\"blue\", alpha=0.6, lw=1)\n",
    "    ax.set_xlim(0, 1)\n",
    "    ax.set_ylim(0, 1.1)\n",
    "    ax.set_title(f\"n = {n}\")\n",
    "    ax.set_yticks([])\n",
    "    ax.set_xlabel(\"U = F_X(X)\")\n",
    "\n",
    "plt.suptitle(\"Probability Integral Transform: Exponential → Uniform(0,1)\")\n",
    "plt.tight_layout()\n",
    "plt.show()"
   ]
  },
  {
   "cell_type": "markdown",
   "id": "cf896f29",
   "metadata": {},
   "source": [
    "## Second Statement"
   ]
  },
  {
   "cell_type": "markdown",
   "id": "ccce7a12",
   "metadata": {},
   "source": [
    "If we have a uniform distribution, we can get any distribution as long at the CDF of that distribution has an inverse (A quantile function)"
   ]
  },
  {
   "cell_type": "markdown",
   "id": "1380306e",
   "metadata": {},
   "source": [
    "First, generate a uniform distribution"
   ]
  },
  {
   "cell_type": "code",
   "execution_count": null,
   "id": "73736feb",
   "metadata": {
    "tags": [
     "hide-input"
    ]
   },
   "outputs": [],
   "source": [
    "import numpy as np\n",
    "import matplotlib.pyplot as plt\n",
    "\n",
    "lam = 1.0\n",
    "n = 1000\n",
    "\n",
    "# Step 1: Generate uniform(0,1)\n",
    "U = np.random.uniform(0,1,n)\n",
    "\n",
    "print(\"Some of the generated number (U):\", U[:10])\n",
    "plt.hist(U);"
   ]
  },
  {
   "cell_type": "markdown",
   "id": "b53e33f6",
   "metadata": {},
   "source": [
    "If we plug the above values into the quantile function (inverse of a CDF) of an exponential distribution:\n",
    "\n",
    "$$\n",
    "X = -\\frac{\\ln(1 - U)}{\\lambda}\n",
    "$$\n",
    "\n",
    "Here, $\\lambda$ = 1"
   ]
  },
  {
   "cell_type": "code",
   "execution_count": null,
   "id": "79fedb5d",
   "metadata": {
    "tags": [
     "hide-input"
    ]
   },
   "outputs": [],
   "source": [
    "# Step 2: Apply inverse CDF of exponential\n",
    "X = -np.log(1 - U) / lam\n",
    "X[:10]"
   ]
  },
  {
   "cell_type": "markdown",
   "id": "ec1485c0",
   "metadata": {},
   "source": [
    "The values have now been converted to what is seen above.\n",
    "\n",
    "Now, let us plot the distribution of these values against the pdf of the exponential distribution:"
   ]
  },
  {
   "cell_type": "code",
   "execution_count": null,
   "id": "6758a2df",
   "metadata": {
    "tags": [
     "hide-input"
    ]
   },
   "outputs": [],
   "source": [
    "x_vals = np.linspace(0, 6, 200)\n",
    "pdf_theoretical = lam * np.exp(-lam * x_vals)\n",
    "\n",
    "plt.figure(figsize=(7,4))\n",
    "plt.hist(X, bins=40, density=True, alpha=0.6, color=\"skyblue\", edgecolor=\"black\", label=\"Simulated X\")\n",
    "plt.plot(x_vals, pdf_theoretical, \"r--\", lw=2, label=\"Theoretical PDF: λe^{-λx}\")\n",
    "plt.title(\"Inverse Probability Integral Transform (Uniform → Exponential)\")\n",
    "plt.xlabel(\"x\")\n",
    "plt.ylabel(\"Density\")\n",
    "plt.legend()\n",
    "plt.grid(True, linestyle=\"--\", alpha=0.6)\n",
    "plt.show()"
   ]
  },
  {
   "cell_type": "markdown",
   "id": "27eac08b",
   "metadata": {},
   "source": [
    "We can see that the simulated values gotten from the uniform distribution and plugged into the quantile function of the exponential distribuion follows the pdf of an exponential distribution."
   ]
  },
  {
   "cell_type": "markdown",
   "id": "8dfa3897",
   "metadata": {},
   "source": [
    "## Conclusion:\n",
    "\n",
    "We went from an exponential distribution to a uniform distribution, and then from a uniform distribution to an exponential distribution."
   ]
  }
 ],
 "metadata": {
  "kernelspec": {
   "display_name": "Python 3 (ipykernel)",
   "language": "python",
   "name": "python3"
  },
  "language_info": {
   "codemirror_mode": {
    "name": "ipython",
    "version": 3
   },
   "file_extension": ".py",
   "mimetype": "text/x-python",
   "name": "python",
   "nbconvert_exporter": "python",
   "pygments_lexer": "ipython3",
   "version": "3.10.18"
  }
 },
 "nbformat": 4,
 "nbformat_minor": 5
}
