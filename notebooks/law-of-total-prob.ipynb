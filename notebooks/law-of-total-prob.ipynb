{
 "cells": [
  {
   "cell_type": "markdown",
   "id": "c2b759d6",
   "metadata": {},
   "source": [
    "## Law of Total Probability\n",
    "\n",
    "Let $\\{B_1,\\dots,B_k\\}$ be a **partition** of the sample space (i.e., $B_i$ are disjoint and $\\sum_i P(B_i)=1$).\n",
    "For any event $A$,\n",
    "\n",
    "$$\n",
    "P(A) \\;=\\; \\sum_{i=1}^k P(A \\mid B_i)\\,P(B_i) \\;=\\; \\sum_{i=1}^k P(A \\cap B_i).\n",
    "$$\n",
    "\n",
    "**Intuition:** Say you go to the mall to buy a trouser. The probability you buy a trouser depends on the colour of the trouser. Let us say the trouser colours come in 4 colours: black, blue, grey, and orange. The event that you buy a trouser is denoted by the red oval, and each trouser colour is represented by its colour below."
   ]
  },
  {
   "cell_type": "code",
   "execution_count": null,
   "id": "ab7107ed",
   "metadata": {
    "tags": [
     "hide-input",
     "hide-code"
    ]
   },
   "outputs": [],
   "source": [
    "import matplotlib.pyplot as plt\n",
    "import matplotlib.patches as patches\n",
    "\n",
    "fig, ax = plt.subplots(figsize=(5,5))\n",
    "\n",
    "# Draw sample space as a box\n",
    "ax.add_patch(patches.Rectangle((0,0), 1, 1, fill=False))\n",
    "\n",
    "# Partition into 4 equal vertical slices\n",
    "ax.add_patch(patches.Rectangle((0,0), 0.25, 1, facecolor=\"black\", alpha=0.7, label=\"The Event of seeing a Black Trouser\"))\n",
    "ax.add_patch(patches.Rectangle((0.25,0), 0.25, 1, facecolor=\"skyblue\", alpha=0.7, label=\"The Event of seeing a Blue Trouser\"))\n",
    "ax.add_patch(patches.Rectangle((0.5,0), 0.25, 1, facecolor=\"grey\", alpha=0.7, label=\"The Event of seeing a a Grey Trouser\"))\n",
    "ax.add_patch(patches.Rectangle((0.75,0), 0.25, 1, facecolor=\"orange\", alpha=0.7, label=\"The Event of seeing an Orange Trouser\"))\n",
    "\n",
    "\n",
    "# Oval (ellipse) centered at (0.5,0.5), width=0.6, height=0.3\n",
    "oval = patches.Ellipse(\n",
    "    (0.5, 0.5),        # center\n",
    "    width=0.8, height=0.3,  # axes lengths\n",
    "    fill=False,\n",
    "    edgecolor=\"red\",\n",
    "    lw=2, label = \"Probability you buy a Trouser\"\n",
    ")\n",
    "ax.add_patch(oval)\n",
    "\n",
    "\n",
    "ax.set_xlim(-0.1,1.1)\n",
    "ax.set_ylim(-0.1,1.1)\n",
    "ax.set_aspect(\"equal\")\n",
    "ax.axis(\"off\")\n",
    "ax.legend(\n",
    "    loc=\"upper left\",\n",
    "    bbox_to_anchor=(1.02, 1),   # x=1.02 pushes it just outside the axes\n",
    "    borderaxespad=0\n",
    ")\n",
    "\n",
    "plt.show()"
   ]
  },
  {
   "cell_type": "markdown",
   "id": "8b0a20ab",
   "metadata": {},
   "source": [
    "Let the event of seeing each trouser be our $B_is$ and the event you buy one be $A$. Here you can see that the event you buy one PASSES THROUGH each event that you see a trouser. So we basically take the sum of the intersection between the oval and every rectangle.\n",
    "\n",
    "$$\n",
    "P(buy\\_a\\_trouser) = \n",
    "P(buy\\_a\\_trouser \\cap black\\_trouser) +\n",
    "P(buy\\_a\\_trouser \\cap blue\\_trouser) +\n",
    "P(buy\\_a\\_trouser \\cap grey\\_trouser) +\n",
    "P(buy\\_a\\_trouser \\cap orange\\_trouser)\n",
    "$$\n",
    "\n",
    "Let buy_a_trouser = $A$, and colour of trouser = $B_i$, such that black = $B_1$, blue = $B_2$, grey = $B_3$, orange = $B_4$.\n",
    "\n",
    "Then, we can write the above as:\n",
    "$$P(A) = P(A \\cap B_1) + P(A \\cap B_2) + P(A \\cap B_3) + P(A \\cap B_4)$$\n",
    "\n",
    "$$= \\sum_{i=1}^4 P(A \\cap B_i).$$"
   ]
  }
 ],
 "metadata": {
  "jupytext": {
   "formats": "notebooks//ipynb,contents//md:myst"
  },
  "kernelspec": {
   "display_name": "Python 3 (ipykernel)",
   "language": "python",
   "name": "python3"
  }
 },
 "nbformat": 4,
 "nbformat_minor": 5
}
